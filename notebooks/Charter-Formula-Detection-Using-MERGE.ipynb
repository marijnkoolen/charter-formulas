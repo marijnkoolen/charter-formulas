{
 "cells": [
  {
   "cell_type": "code",
   "execution_count": 1,
   "id": "98416a0b",
   "metadata": {},
   "outputs": [],
   "source": [
    "%reload_ext autoreload\n",
    "%autoreload 2\n"
   ]
  },
  {
   "cell_type": "code",
   "execution_count": 2,
   "id": "868ea984",
   "metadata": {},
   "outputs": [
    {
     "data": {
      "text/plain": [
       "5955"
      ]
     },
     "execution_count": 2,
     "metadata": {},
     "output_type": "execute_result"
    }
   ],
   "source": [
    "import os\n",
    "import glob\n",
    "import json\n",
    "\n",
    "\n",
    "charter_dir = '../data/charters/'\n",
    "\n",
    "charter_files = glob.glob(os.path.join(charter_dir, '**/*.json'))\n",
    "len(charter_files)"
   ]
  },
  {
   "cell_type": "code",
   "execution_count": 3,
   "id": "b38fa55f",
   "metadata": {},
   "outputs": [
    {
     "name": "stdout",
     "output_type": "stream",
     "text": [
      "_o_K094p35502.GADordrecht1.Inv99a.Reg237 \n",
      "\n",
      "\tWJ broeder alaerd van dieden ghardiaen van den minrebroedren in dordr_ en_ broeder ghisebrecht van den berghe lesemeester ter minrebroedren vors_ maken kont en_ kenlic allen luden dat wi ghesien en_ ghehoert hebbe_ jn ons he_en jaer M&r; ccc&r; viue en_ vijftic des donredaghes na sinte jans dach te midde~zomer Een brief ghans en_ ghaue wel bezeghelt Met ons liefs he_en . tsgrauen zeghel van holl_t jn desen worden als hier~na ghescreuen staed &unreadable;\n",
      "\n",
      "\twj broeder alaerd van dieden ghardiaen van den minrebroedren in dordrecht ende broeder ghisebrecht van den berghe lesemeester ter minrebroedren vorseit maken kont ende kenlic allen luden dat wi ghesien ende ghehoert hebben jn ons heeren jaer m ccc viue ende vijftic des donredaghes na sinte jans dach te middezomer een brief ghans ende ghaue wel bezeghelt met ons liefs heeren . tsgrauen zeghel van hollant jn desen worden als hierna ghescreuen staed &unreadable;\n",
      "\n",
      "\twij broeder adelhard van diede gardiaan van de minderbroeder in dordrecht en broeder gijsbert van de berg leesmeester te+de minderbroeder voorgezegd maken kond en kenlijk al lieden dat wij zien en horen hebben in ons heer jaar m ccc vijf en vijftig de donderdag na sint johannes dag te midzomer een brief gans en gaaf wel bezegelen met ons lief heer . de+graaf zegel van holland in deze woord als hierna schrijven staan &unreadable;\n",
      "\n"
     ]
    }
   ],
   "source": [
    "from scripts.read import CharterReader\n",
    "\n",
    "charters_orig = CharterReader(charter_files, 'orig', as_sentences=True)\n",
    "charters_full = CharterReader(charter_files, 'full', as_sentences=True)\n",
    "charters_lemma = CharterReader(charter_files, 'lemma', as_sentences=True)\n",
    "\n",
    "for charter in charters_orig:\n",
    "    print(charter['charter_id'], '\\n')\n",
    "    print(f\"\\t{' '.join(charter['words'])}\\n\")\n",
    "    break\n",
    "\n",
    "for charter in charters_full:\n",
    "    print(f\"\\t{' '.join(charter['words'])}\\n\")\n",
    "    break\n",
    "\n",
    "for charter in charters_lemma:\n",
    "    print(f\"\\t{' '.join(charter['words'])}\\n\")\n",
    "    break\n"
   ]
  },
  {
   "cell_type": "code",
   "execution_count": null,
   "id": "977e6819",
   "metadata": {},
   "outputs": [],
   "source": []
  },
  {
   "cell_type": "markdown",
   "id": "75f06193",
   "metadata": {},
   "source": [
    "## MERGE Algorithm"
   ]
  },
  {
   "cell_type": "code",
   "execution_count": 4,
   "id": "612a5693",
   "metadata": {},
   "outputs": [],
   "source": [
    "from formula_detection.merge_bigrams import make_bigram_collocation_finder\n",
    "from formula_detection.merge_bigrams import select_non_overlapping_bigrams\n",
    "from formula_detection.merge_bigrams import BigramMerger\n"
   ]
  },
  {
   "cell_type": "code",
   "execution_count": 5,
   "id": "16bd0b3d",
   "metadata": {},
   "outputs": [],
   "source": [
    "bigram_variant_sets = []\n",
    "window_size = 3\n",
    "\n",
    "bimer = BigramMerger(ft_models={})\n"
   ]
  },
  {
   "cell_type": "code",
   "execution_count": 6,
   "id": "31aba33e",
   "metadata": {},
   "outputs": [],
   "source": [
    "bcf1 = make_bigram_collocation_finder(charters_full, bigram_variant_sets, window_size=window_size)\n",
    "best_bigrams1 = bcf1.above_score(bcf1._likelihood_ratio, 6.63)\n"
   ]
  },
  {
   "cell_type": "code",
   "execution_count": 13,
   "id": "334af419",
   "metadata": {},
   "outputs": [
    {
     "data": {
      "text/plain": [
       "[(('~', '~'), 17227),\n",
       " ((',', 'ende'), 15036),\n",
       " (('van', 'den'), 9937),\n",
       " (('.', '.'), 7684),\n",
       " (('ende', 'van'), 7041),\n",
       " (('.', 'ende'), 6898),\n",
       " (('van', 'der'), 6335),\n",
       " (('van', ','), 5920),\n",
       " ((',', 'dat'), 5336),\n",
       " (('ende', 'dat'), 5042)]"
      ]
     },
     "execution_count": 13,
     "metadata": {},
     "output_type": "execute_result"
    }
   ],
   "source": [
    "bcf1.bfd.most_common(10)"
   ]
  },
  {
   "cell_type": "code",
   "execution_count": 8,
   "id": "2a4bff3e",
   "metadata": {},
   "outputs": [
    {
     "data": {
      "text/plain": [
       "<generator object BigramFinder.above_score at 0x163859cb0>"
      ]
     },
     "execution_count": 8,
     "metadata": {},
     "output_type": "execute_result"
    }
   ],
   "source": [
    "best_bigrams1"
   ]
  },
  {
   "cell_type": "code",
   "execution_count": 9,
   "id": "f1bb1fd6",
   "metadata": {},
   "outputs": [],
   "source": [
    "selected_bigrams1 = select_non_overlapping_bigrams(best_bigrams1)\n"
   ]
  },
  {
   "cell_type": "code",
   "execution_count": 11,
   "id": "91f919cc",
   "metadata": {},
   "outputs": [
    {
     "data": {
      "text/plain": [
       "0"
      ]
     },
     "execution_count": 11,
     "metadata": {},
     "output_type": "execute_result"
    }
   ],
   "source": [
    "len(selected_bigrams1)"
   ]
  },
  {
   "cell_type": "code",
   "execution_count": null,
   "id": "1eef2bc0",
   "metadata": {},
   "outputs": [],
   "source": [
    "bigram_variant_set1 = bimer.get_bigram_variants(selected_bigrams1, bcf1.bfd)\n",
    "\n",
    "bigram_variant_sets.append(bigram_variant_set1)"
   ]
  },
  {
   "cell_type": "code",
   "execution_count": 25,
   "id": "7bd9f5be",
   "metadata": {},
   "outputs": [
    {
     "data": {
      "text/plain": [
       "<formula_detection.merge_bigrams.BigramVariantSet at 0x12a1b9d80>"
      ]
     },
     "execution_count": 25,
     "metadata": {},
     "output_type": "execute_result"
    }
   ],
   "source": [
    "bigram_variant_set1"
   ]
  },
  {
   "cell_type": "code",
   "execution_count": null,
   "id": "156154d4",
   "metadata": {},
   "outputs": [],
   "source": []
  }
 ],
 "metadata": {
  "kernelspec": {
   "display_name": "Python 3 (ipykernel)",
   "language": "python",
   "name": "python3"
  },
  "language_info": {
   "codemirror_mode": {
    "name": "ipython",
    "version": 3
   },
   "file_extension": ".py",
   "mimetype": "text/x-python",
   "name": "python",
   "nbconvert_exporter": "python",
   "pygments_lexer": "ipython3",
   "version": "3.10.9"
  },
  "toc": {
   "base_numbering": 1,
   "nav_menu": {},
   "number_sections": true,
   "sideBar": true,
   "skip_h1_title": false,
   "title_cell": "Table of Contents",
   "title_sidebar": "Contents",
   "toc_cell": false,
   "toc_position": {},
   "toc_section_display": true,
   "toc_window_display": false
  }
 },
 "nbformat": 4,
 "nbformat_minor": 5
}
